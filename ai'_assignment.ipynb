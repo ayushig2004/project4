{
  "nbformat": 4,
  "nbformat_minor": 0,
  "metadata": {
    "colab": {
      "provenance": [],
      "authorship_tag": "ABX9TyOqT6oKOmmk/fNKO6GZ+GFy",
      "include_colab_link": true
    },
    "kernelspec": {
      "name": "python3",
      "display_name": "Python 3"
    },
    "language_info": {
      "name": "python"
    }
  },
  "cells": [
    {
      "cell_type": "markdown",
      "metadata": {
        "id": "view-in-github",
        "colab_type": "text"
      },
      "source": [
        "<a href=\"https://colab.research.google.com/github/ayushig2004/project4/blob/main/ai'_assignment.ipynb\" target=\"_parent\"><img src=\"https://colab.research.google.com/assets/colab-badge.svg\" alt=\"Open In Colab\"/></a>"
      ]
    },
    {
      "cell_type": "code",
      "execution_count": null,
      "metadata": {
        "colab": {
          "base_uri": "https://localhost:8080/"
        },
        "id": "lBcgvAc0P3r_",
        "outputId": "4b6f4533-e2ae-4500-9222-0ffd35929726"
      },
      "outputs": [
        {
          "output_type": "stream",
          "name": "stdout",
          "text": [
            "Collecting pgmpy\n",
            "  Downloading pgmpy-0.1.26-py3-none-any.whl.metadata (9.1 kB)\n",
            "Requirement already satisfied: numpy in /usr/local/lib/python3.10/dist-packages (1.26.4)\n",
            "Requirement already satisfied: networkx in /usr/local/lib/python3.10/dist-packages (from pgmpy) (3.4.1)\n",
            "Requirement already satisfied: scipy in /usr/local/lib/python3.10/dist-packages (from pgmpy) (1.13.1)\n",
            "Requirement already satisfied: scikit-learn in /usr/local/lib/python3.10/dist-packages (from pgmpy) (1.5.2)\n",
            "Requirement already satisfied: pandas in /usr/local/lib/python3.10/dist-packages (from pgmpy) (2.2.2)\n",
            "Requirement already satisfied: pyparsing in /usr/local/lib/python3.10/dist-packages (from pgmpy) (3.2.0)\n",
            "Requirement already satisfied: torch in /usr/local/lib/python3.10/dist-packages (from pgmpy) (2.4.1+cu121)\n",
            "Requirement already satisfied: statsmodels in /usr/local/lib/python3.10/dist-packages (from pgmpy) (0.14.4)\n",
            "Requirement already satisfied: tqdm in /usr/local/lib/python3.10/dist-packages (from pgmpy) (4.66.5)\n",
            "Requirement already satisfied: joblib in /usr/local/lib/python3.10/dist-packages (from pgmpy) (1.4.2)\n",
            "Requirement already satisfied: opt-einsum in /usr/local/lib/python3.10/dist-packages (from pgmpy) (3.4.0)\n",
            "Requirement already satisfied: xgboost in /usr/local/lib/python3.10/dist-packages (from pgmpy) (2.1.1)\n",
            "Requirement already satisfied: google-generativeai in /usr/local/lib/python3.10/dist-packages (from pgmpy) (0.7.2)\n",
            "Requirement already satisfied: google-ai-generativelanguage==0.6.6 in /usr/local/lib/python3.10/dist-packages (from google-generativeai->pgmpy) (0.6.6)\n",
            "Requirement already satisfied: google-api-core in /usr/local/lib/python3.10/dist-packages (from google-generativeai->pgmpy) (2.19.2)\n",
            "Requirement already satisfied: google-api-python-client in /usr/local/lib/python3.10/dist-packages (from google-generativeai->pgmpy) (2.137.0)\n",
            "Requirement already satisfied: google-auth>=2.15.0 in /usr/local/lib/python3.10/dist-packages (from google-generativeai->pgmpy) (2.27.0)\n",
            "Requirement already satisfied: protobuf in /usr/local/lib/python3.10/dist-packages (from google-generativeai->pgmpy) (3.20.3)\n",
            "Requirement already satisfied: pydantic in /usr/local/lib/python3.10/dist-packages (from google-generativeai->pgmpy) (2.9.2)\n",
            "Requirement already satisfied: typing-extensions in /usr/local/lib/python3.10/dist-packages (from google-generativeai->pgmpy) (4.12.2)\n",
            "Requirement already satisfied: proto-plus<2.0.0dev,>=1.22.3 in /usr/local/lib/python3.10/dist-packages (from google-ai-generativelanguage==0.6.6->google-generativeai->pgmpy) (1.24.0)\n",
            "Requirement already satisfied: python-dateutil>=2.8.2 in /usr/local/lib/python3.10/dist-packages (from pandas->pgmpy) (2.8.2)\n",
            "Requirement already satisfied: pytz>=2020.1 in /usr/local/lib/python3.10/dist-packages (from pandas->pgmpy) (2024.2)\n",
            "Requirement already satisfied: tzdata>=2022.7 in /usr/local/lib/python3.10/dist-packages (from pandas->pgmpy) (2024.2)\n",
            "Requirement already satisfied: threadpoolctl>=3.1.0 in /usr/local/lib/python3.10/dist-packages (from scikit-learn->pgmpy) (3.5.0)\n",
            "Requirement already satisfied: patsy>=0.5.6 in /usr/local/lib/python3.10/dist-packages (from statsmodels->pgmpy) (0.5.6)\n",
            "Requirement already satisfied: packaging>=21.3 in /usr/local/lib/python3.10/dist-packages (from statsmodels->pgmpy) (24.1)\n",
            "Requirement already satisfied: filelock in /usr/local/lib/python3.10/dist-packages (from torch->pgmpy) (3.16.1)\n",
            "Requirement already satisfied: sympy in /usr/local/lib/python3.10/dist-packages (from torch->pgmpy) (1.13.3)\n",
            "Requirement already satisfied: jinja2 in /usr/local/lib/python3.10/dist-packages (from torch->pgmpy) (3.1.4)\n",
            "Requirement already satisfied: fsspec in /usr/local/lib/python3.10/dist-packages (from torch->pgmpy) (2024.6.1)\n",
            "Requirement already satisfied: nvidia-nccl-cu12 in /usr/local/lib/python3.10/dist-packages (from xgboost->pgmpy) (2.23.4)\n",
            "Requirement already satisfied: googleapis-common-protos<2.0.dev0,>=1.56.2 in /usr/local/lib/python3.10/dist-packages (from google-api-core->google-generativeai->pgmpy) (1.65.0)\n",
            "Requirement already satisfied: requests<3.0.0.dev0,>=2.18.0 in /usr/local/lib/python3.10/dist-packages (from google-api-core->google-generativeai->pgmpy) (2.32.3)\n",
            "Requirement already satisfied: cachetools<6.0,>=2.0.0 in /usr/local/lib/python3.10/dist-packages (from google-auth>=2.15.0->google-generativeai->pgmpy) (5.5.0)\n",
            "Requirement already satisfied: pyasn1-modules>=0.2.1 in /usr/local/lib/python3.10/dist-packages (from google-auth>=2.15.0->google-generativeai->pgmpy) (0.4.1)\n",
            "Requirement already satisfied: rsa<5,>=3.1.4 in /usr/local/lib/python3.10/dist-packages (from google-auth>=2.15.0->google-generativeai->pgmpy) (4.9)\n",
            "Requirement already satisfied: six in /usr/local/lib/python3.10/dist-packages (from patsy>=0.5.6->statsmodels->pgmpy) (1.16.0)\n",
            "Requirement already satisfied: httplib2<1.dev0,>=0.19.0 in /usr/local/lib/python3.10/dist-packages (from google-api-python-client->google-generativeai->pgmpy) (0.22.0)\n",
            "Requirement already satisfied: google-auth-httplib2<1.0.0,>=0.2.0 in /usr/local/lib/python3.10/dist-packages (from google-api-python-client->google-generativeai->pgmpy) (0.2.0)\n",
            "Requirement already satisfied: uritemplate<5,>=3.0.1 in /usr/local/lib/python3.10/dist-packages (from google-api-python-client->google-generativeai->pgmpy) (4.1.1)\n",
            "Requirement already satisfied: MarkupSafe>=2.0 in /usr/local/lib/python3.10/dist-packages (from jinja2->torch->pgmpy) (3.0.1)\n",
            "Requirement already satisfied: annotated-types>=0.6.0 in /usr/local/lib/python3.10/dist-packages (from pydantic->google-generativeai->pgmpy) (0.7.0)\n",
            "Requirement already satisfied: pydantic-core==2.23.4 in /usr/local/lib/python3.10/dist-packages (from pydantic->google-generativeai->pgmpy) (2.23.4)\n",
            "Requirement already satisfied: mpmath<1.4,>=1.1.0 in /usr/local/lib/python3.10/dist-packages (from sympy->torch->pgmpy) (1.3.0)\n",
            "Requirement already satisfied: grpcio<2.0dev,>=1.33.2 in /usr/local/lib/python3.10/dist-packages (from google-api-core[grpc]!=2.0.*,!=2.1.*,!=2.10.*,!=2.2.*,!=2.3.*,!=2.4.*,!=2.5.*,!=2.6.*,!=2.7.*,!=2.8.*,!=2.9.*,<3.0.0dev,>=1.34.1->google-ai-generativelanguage==0.6.6->google-generativeai->pgmpy) (1.64.1)\n",
            "Requirement already satisfied: grpcio-status<2.0.dev0,>=1.33.2 in /usr/local/lib/python3.10/dist-packages (from google-api-core[grpc]!=2.0.*,!=2.1.*,!=2.10.*,!=2.2.*,!=2.3.*,!=2.4.*,!=2.5.*,!=2.6.*,!=2.7.*,!=2.8.*,!=2.9.*,<3.0.0dev,>=1.34.1->google-ai-generativelanguage==0.6.6->google-generativeai->pgmpy) (1.48.2)\n",
            "Requirement already satisfied: pyasn1<0.7.0,>=0.4.6 in /usr/local/lib/python3.10/dist-packages (from pyasn1-modules>=0.2.1->google-auth>=2.15.0->google-generativeai->pgmpy) (0.6.1)\n",
            "Requirement already satisfied: charset-normalizer<4,>=2 in /usr/local/lib/python3.10/dist-packages (from requests<3.0.0.dev0,>=2.18.0->google-api-core->google-generativeai->pgmpy) (3.4.0)\n",
            "Requirement already satisfied: idna<4,>=2.5 in /usr/local/lib/python3.10/dist-packages (from requests<3.0.0.dev0,>=2.18.0->google-api-core->google-generativeai->pgmpy) (3.10)\n",
            "Requirement already satisfied: urllib3<3,>=1.21.1 in /usr/local/lib/python3.10/dist-packages (from requests<3.0.0.dev0,>=2.18.0->google-api-core->google-generativeai->pgmpy) (2.2.3)\n",
            "Requirement already satisfied: certifi>=2017.4.17 in /usr/local/lib/python3.10/dist-packages (from requests<3.0.0.dev0,>=2.18.0->google-api-core->google-generativeai->pgmpy) (2024.8.30)\n",
            "Downloading pgmpy-0.1.26-py3-none-any.whl (2.0 MB)\n",
            "\u001b[2K   \u001b[90m━━━━━━━━━━━━━━━━━━━━━━━━━━━━━━━━━━━━━━━━\u001b[0m \u001b[32m2.0/2.0 MB\u001b[0m \u001b[31m17.3 MB/s\u001b[0m eta \u001b[36m0:00:00\u001b[0m\n",
            "\u001b[?25hInstalling collected packages: pgmpy\n",
            "Successfully installed pgmpy-0.1.26\n"
          ]
        }
      ],
      "source": [
        "pip install pgmpy numpy\n"
      ]
    },
    {
      "cell_type": "code",
      "source": [
        "from pgmpy.models import BayesianNetwork\n",
        "from pgmpy.factors.discrete import TabularCPD\n",
        "from pgmpy.inference import VariableElimination\n",
        "\n",
        "# Step 1: Define the structure of the Bayesian Network\n",
        "# In this example, we'll model the relationship between a disease and its symptoms (fever, cough, fatigue).\n",
        "model = BayesianNetwork([('Disease', 'Fever'),\n",
        "                         ('Disease', 'Cough'),\n",
        "                         ('Disease', 'Fatigue')])\n",
        "\n",
        "# Step 2: Define the CPDs (Conditional Probability Distributions)\n",
        "\n",
        "# CPD for Disease: P(Disease)\n",
        "# We assume a 30% chance of having the disease and 70% chance of not having it\n",
        "cpd_disease = TabularCPD(variable='Disease', variable_card=2, values=[[0.7], [0.3]])  # No Disease, Disease\n",
        "\n",
        "# CPD for Fever given Disease\n",
        "# If Disease = 1, P(Fever=Yes) = 0.8; If Disease = 0, P(Fever=Yes) = 0.2\n",
        "cpd_fever = TabularCPD(variable='Fever', variable_card=2,\n",
        "                       values=[[0.8, 0.2],  # P(Fever=No | Disease=No), P(Fever=No | Disease=Yes)\n",
        "                               [0.2, 0.8]], # P(Fever=Yes | Disease=No), P(Fever=Yes | Disease=Yes)\n",
        "                       evidence=['Disease'], evidence_card=[2])\n",
        "\n",
        "# CPD for Cough given Disease\n",
        "# If Disease = 1, P(Cough=Yes) = 0.7; If Disease = 0, P(Cough=Yes) = 0.3\n",
        "cpd_cough = TabularCPD(variable='Cough', variable_card=2,\n",
        "                       values=[[0.7, 0.3],  # P(Cough=No | Disease=No), P(Cough=No | Disease=Yes)\n",
        "                               [0.3, 0.7]], # P(Cough=Yes | Disease=No), P(Cough=Yes | Disease=Yes)\n",
        "                       evidence=['Disease'], evidence_card=[2])\n",
        "# CPD for Fatigue given Disease\n",
        "# If Disease = 1, P(Fatigue=Yes) = 0.6; If Disease = 0, P(Fatigue=Yes) = 0.2\n",
        "cpd_fatigue = TabularCPD(variable='Fatigue', variable_card=2,\n",
        "                         values=[[0.6, 0.2],  # P(Fatigue=No | Disease=No), P(Fatigue=No | Disease=Yes)\n",
        "                                 [0.4, 0.8]], # P(Fatigue=Yes | Disease=No), P(Fatigue=Yes | Disease=Yes)\n",
        "                         evidence=['Disease'], evidence_card=[2])\n",
        "\n",
        "# Step 3: Add the CPDs to the model\n",
        "model.add_cpds(cpd_disease, cpd_fever, cpd_cough, cpd_fatigue)\n",
        "# Step 4: Verify the model structure\n",
        "assert model.check_model()\n",
        "\n",
        "# Step 5: Perform Exact Inference using Variable Elimination\n",
        "# Initialize the inference engine\n",
        "inference = VariableElimination(model)\n",
        "\n",
        "# Step 6: Query the network with evidence\n",
        "# Query 1: Probability of Disease given that the patient has Fever=True and Cough=True\n",
        "result_1 = inference.query(variables=['Disease'], evidence={'Fever': 1, 'Cough': 1})\n",
        "print(\"Query 1: Probability of Disease given Fever=True and Cough=True:\\n\", result_1)\n",
        "\n",
        "# Query 2: Probability of Disease given that the patient has Fatigue=True\n",
        "result_2 = inference.query(variables=['Disease'], evidence={'Fatigue': 1})\n",
        "print(\"\\nQuery 2: Probability of Disease given Fatigue=True:\\n\", result_2)\n",
        "\n",
        "# Query 3: Probability of Disease with no evidence (prior probability)\n",
        "result_3 = inference.query(variables=['Disease'])\n",
        "print(\"\\nQuery 3: Probability of Disease with no evidence:\\n\",result_3)"
      ],
      "metadata": {
        "colab": {
          "base_uri": "https://localhost:8080/"
        },
        "id": "qk5GpfdBP8Hs",
        "outputId": "8ab1dee2-26f2-49fb-fc00-e1a367c853d6"
      },
      "execution_count": null,
      "outputs": [
        {
          "output_type": "stream",
          "name": "stdout",
          "text": [
            "Query 1: Probability of Disease given Fever=True and Cough=True:\n",
            " +------------+----------------+\n",
            "| Disease    |   phi(Disease) |\n",
            "+============+================+\n",
            "| Disease(0) |         0.2000 |\n",
            "+------------+----------------+\n",
            "| Disease(1) |         0.8000 |\n",
            "+------------+----------------+\n",
            "\n",
            "Query 2: Probability of Disease given Fatigue=True:\n",
            " +------------+----------------+\n",
            "| Disease    |   phi(Disease) |\n",
            "+============+================+\n",
            "| Disease(0) |         0.5385 |\n",
            "+------------+----------------+\n",
            "| Disease(1) |         0.4615 |\n",
            "+------------+----------------+\n",
            "\n",
            "Query 3: Probability of Disease with no evidence:\n",
            " +------------+----------------+\n",
            "| Disease    |   phi(Disease) |\n",
            "+============+================+\n",
            "| Disease(0) |         0.7000 |\n",
            "+------------+----------------+\n",
            "| Disease(1) |         0.3000 |\n",
            "+------------+----------------+\n"
          ]
        }
      ]
    },
    {
      "cell_type": "code",
      "source": [],
      "metadata": {
        "id": "Q2S3zB02Qf44"
      },
      "execution_count": null,
      "outputs": []
    }
  ]
}